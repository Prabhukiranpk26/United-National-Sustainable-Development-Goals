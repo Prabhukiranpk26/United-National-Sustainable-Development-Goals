{
 "cells": [
  {
   "cell_type": "code",
   "execution_count": 1,
   "id": "aa6c8b32-2193-4237-aa18-c6afef8aab2e",
   "metadata": {},
   "outputs": [],
   "source": [
    "import requests\n",
    "import zipfile\n",
    "import os\n",
    "import pandas as pd"
   ]
  },
  {
   "cell_type": "code",
   "execution_count": null,
   "id": "eb2ed49f-2197-4742-a3c9-e6015347c067",
   "metadata": {},
   "outputs": [],
   "source": [
    "url = \"https://docs.aiddata.org/ad4/datasets/Financing_the_2030_Agenda_for_Sustainable_Development_Dataset_Version_1_0.zip\"\n",
    "dataset_zip = \"Financing_the_2030_Agenda.zip\"\n",
    "\n",
    "response = requests.get(url)\n",
    "with open(dataset_zip, 'wb') as file:\n",
    "    file.write(response.content)"
   ]
  },
  {
   "cell_type": "code",
   "execution_count": null,
   "id": "b6b9fbb0-393a-49c8-9564-27a002fe04a6",
   "metadata": {},
   "outputs": [],
   "source": [
    "with zipfile.ZipFile(dataset_zip, 'r') as zip_ref:\n",
    "    zip_ref.extractall(\"dataset\")"
   ]
  },
  {
   "cell_type": "code",
   "execution_count": 4,
   "id": "b7aff149-d7ee-46ef-9351-85a0ecd348de",
   "metadata": {},
   "outputs": [],
   "source": [
    "df = pd.read_csv(\"/Users/kiranm/Downloads/Financing_the_2030_Agenda_for_Sustainable_Development_Dataset_Version_1_0/Aggregates_Financing_the_2030_Agenda_for_Sustainable_Development_Dataset_Version_1_0.csv\")"
   ]
  },
  {
   "cell_type": "code",
   "execution_count": 6,
   "id": "dc3867d9-36c6-4129-a37d-ce01721069ac",
   "metadata": {},
   "outputs": [
    {
     "name": "stdout",
     "output_type": "stream",
     "text": [
      "   year  donor_code donor_name  recipient_code          recipient_name  \\\n",
      "0  2010           1    Austria              55                 Turkiye   \n",
      "1  2010           1    Austria              57                  Kosovo   \n",
      "2  2010           1    Austria              62                 Croatia   \n",
      "3  2010           1    Austria              63                  Serbia   \n",
      "4  2010           1    Austria              64  Bosnia and Herzegovina   \n",
      "\n",
      "     recipient_region  disbursement  total_proj  sdg_1_sum  sdg_1_n_proj  ...  \\\n",
      "0  Europe and Eurasia    28804294.0           7        0.0             0  ...   \n",
      "1  Europe and Eurasia    17303907.0          43     2106.0             1  ...   \n",
      "2  Europe and Eurasia     5920229.0          11    18882.0             1  ...   \n",
      "3  Europe and Eurasia    13613218.0          34    74293.5             5  ...   \n",
      "4  Europe and Eurasia    32505626.0          52    13027.0             1  ...   \n",
      "\n",
      "   sdg_15_sum  sdg_15_n_proj  sdg_16_sum  sdg_16_n_proj  sdg_17_sum  \\\n",
      "0         0.0              0         0.0              0         0.0   \n",
      "1      3350.0              1  12910182.0              9         0.0   \n",
      "2         0.0              0         0.0              0         0.0   \n",
      "3         0.0              0   1209274.0              2         0.0   \n",
      "4         0.0              0   8676740.0              9   1854012.0   \n",
      "\n",
      "   sdg_17_n_proj  env_sum  env_n_proj  non_sdg_sum  non_sdg_n_proj  \n",
      "0              0      0.0           0      89601.0               1  \n",
      "1              0      0.0           0     810967.0               6  \n",
      "2              0      0.0           0          0.0               0  \n",
      "3              0  25927.0           1    1515658.0               3  \n",
      "4              2      0.0           0    1855888.0               3  \n",
      "\n",
      "[5 rows x 46 columns]\n",
      "\n",
      "Missing values per column:\n",
      " year                0\n",
      "donor_code          0\n",
      "donor_name          0\n",
      "recipient_code      0\n",
      "recipient_name      0\n",
      "recipient_region    0\n",
      "disbursement        0\n",
      "total_proj          0\n",
      "sdg_1_sum           0\n",
      "sdg_1_n_proj        0\n",
      "sdg_2_sum           0\n",
      "sdg_2_n_proj        0\n",
      "sdg_3_sum           0\n",
      "sdg_3_n_proj        0\n",
      "sdg_4_sum           0\n",
      "sdg_4_n_proj        0\n",
      "sdg_5_sum           0\n",
      "sdg_5_n_proj        0\n",
      "sdg_6_sum           0\n",
      "sdg_6_n_proj        0\n",
      "sdg_7_sum           0\n",
      "sdg_7_n_proj        0\n",
      "sdg_8_sum           0\n",
      "sdg_8_n_proj        0\n",
      "sdg_9_sum           0\n",
      "sdg_9_n_proj        0\n",
      "sdg_10_sum          0\n",
      "sdg_10_n_proj       0\n",
      "sdg_11_sum          0\n",
      "sdg_11_n_proj       0\n",
      "sdg_12_sum          0\n",
      "sdg_12_n_proj       0\n",
      "sdg_13_sum          0\n",
      "sdg_13_n_proj       0\n",
      "sdg_14_sum          0\n",
      "sdg_14_n_proj       0\n",
      "sdg_15_sum          0\n",
      "sdg_15_n_proj       0\n",
      "sdg_16_sum          0\n",
      "sdg_16_n_proj       0\n",
      "sdg_17_sum          0\n",
      "sdg_17_n_proj       0\n",
      "env_sum             0\n",
      "env_n_proj          0\n",
      "non_sdg_sum         0\n",
      "non_sdg_n_proj      0\n",
      "dtype: int64\n"
     ]
    }
   ],
   "source": [
    "print(df.head())\n",
    "\n",
    "print(\"\\nMissing values per column:\\n\", df.isnull().sum())"
   ]
  },
  {
   "cell_type": "code",
   "execution_count": 7,
   "id": "036ca6fd-7143-4614-b375-3febc5498719",
   "metadata": {},
   "outputs": [
    {
     "name": "stdout",
     "output_type": "stream",
     "text": [
      "\n",
      "Summary statistics:\n",
      "                year    donor_code  recipient_code  disbursement    total_proj  \\\n",
      "count  82959.000000  82959.000000    82959.000000  8.295900e+04  82959.000000   \n",
      "mean    2016.090780    596.160814      521.355501  3.646999e+07     30.334382   \n",
      "std        3.384416    520.372162     1056.754934  2.214213e+08    101.993809   \n",
      "min     2010.000000      1.000000       55.000000 -7.663994e+06      0.000000   \n",
      "25%     2013.000000     21.000000      247.000000  1.543705e+05      2.000000   \n",
      "50%     2016.000000    742.000000      342.000000  1.320231e+06      6.000000   \n",
      "75%     2019.000000    959.000000      614.000000  9.991964e+06     24.000000   \n",
      "max     2021.000000   1647.000000     9998.000000  1.233538e+10   9139.000000   \n",
      "\n",
      "          sdg_1_sum  sdg_1_n_proj     sdg_2_sum  sdg_2_n_proj     sdg_3_sum  \\\n",
      "count  8.295900e+04  82959.000000  8.295900e+04  82959.000000  8.295900e+04   \n",
      "mean   1.352095e+06      1.429742  2.682078e+06      2.954917  4.207926e+06   \n",
      "std    1.556135e+07     17.784943  1.971790e+07     10.333505  4.254508e+07   \n",
      "min   -1.310465e+08      0.000000 -5.015259e+06      0.000000 -5.959602e+07   \n",
      "25%    0.000000e+00      0.000000  0.000000e+00      0.000000  0.000000e+00   \n",
      "50%    0.000000e+00      0.000000  0.000000e+00      0.000000  0.000000e+00   \n",
      "75%    2.992050e+04      1.000000  2.012060e+05      2.000000  3.966392e+05   \n",
      "max    9.852537e+08   3542.000000  2.148587e+09    370.000000  3.087077e+09   \n",
      "\n",
      "       ...    sdg_15_sum  sdg_15_n_proj    sdg_16_sum  sdg_16_n_proj  \\\n",
      "count  ...  8.295900e+04   82959.000000  8.295900e+04   82959.000000   \n",
      "mean   ...  3.854560e+05       0.601864  3.286003e+06       5.095228   \n",
      "std    ...  4.403770e+06       3.013300  2.870806e+07      31.206980   \n",
      "min    ... -4.439730e+05       0.000000 -1.353733e+07       0.000000   \n",
      "25%    ...  0.000000e+00       0.000000  0.000000e+00       0.000000   \n",
      "50%    ...  0.000000e+00       0.000000  0.000000e+00       0.000000   \n",
      "75%    ...  0.000000e+00       0.000000  3.227200e+05       3.000000   \n",
      "max    ...  4.229062e+08     211.000000  2.133141e+09    4288.000000   \n",
      "\n",
      "         sdg_17_sum  sdg_17_n_proj       env_sum    env_n_proj   non_sdg_sum  \\\n",
      "count  8.295900e+04   82959.000000  8.295900e+04  82959.000000  8.295900e+04   \n",
      "mean   6.952013e+05       0.601032  2.396503e+05      0.389108  8.661012e+06   \n",
      "std    1.870779e+07       3.312208  6.273066e+06      2.459341  1.183821e+08   \n",
      "min   -4.969850e+05       0.000000 -4.714550e+05      0.000000 -7.850050e+05   \n",
      "25%    0.000000e+00       0.000000  0.000000e+00      0.000000  0.000000e+00   \n",
      "50%    0.000000e+00       0.000000  0.000000e+00      0.000000  0.000000e+00   \n",
      "75%    0.000000e+00       0.000000  0.000000e+00      0.000000  5.431860e+05   \n",
      "max    3.007180e+09     205.000000  1.308079e+09    425.000000  8.091204e+09   \n",
      "\n",
      "       non_sdg_n_proj  \n",
      "count    82959.000000  \n",
      "mean         4.097325  \n",
      "std         26.750522  \n",
      "min          0.000000  \n",
      "25%          0.000000  \n",
      "50%          0.000000  \n",
      "75%          2.000000  \n",
      "max       2360.000000  \n",
      "\n",
      "[8 rows x 43 columns]\n"
     ]
    }
   ],
   "source": [
    "print(\"\\nSummary statistics:\\n\", df.describe())"
   ]
  }
 ],
 "metadata": {
  "kernelspec": {
   "display_name": "Python 3 (ipykernel)",
   "language": "python",
   "name": "python3"
  },
  "language_info": {
   "codemirror_mode": {
    "name": "ipython",
    "version": 3
   },
   "file_extension": ".py",
   "mimetype": "text/x-python",
   "name": "python",
   "nbconvert_exporter": "python",
   "pygments_lexer": "ipython3",
   "version": "3.8.19"
  }
 },
 "nbformat": 4,
 "nbformat_minor": 5
}
